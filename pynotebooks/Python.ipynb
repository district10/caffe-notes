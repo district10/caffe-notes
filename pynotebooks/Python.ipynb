{
 "cells": [
  {
   "cell_type": "code",
   "execution_count": 8,
   "metadata": {
    "collapsed": false
   },
   "outputs": [
    {
     "name": "stdout",
     "output_type": "stream",
     "text": [
      "['shit', 'path/to/caffe', 'path/to/caffe', 'path/to/caffe', '', 'C:\\\\Users\\\\cvrs\\\\Anaconda3\\\\python35.zip', 'C:\\\\Users\\\\cvrs\\\\Anaconda3\\\\DLLs', 'C:\\\\Users\\\\cvrs\\\\Anaconda3\\\\lib', 'C:\\\\Users\\\\cvrs\\\\Anaconda3', 'c:\\\\users\\\\cvrs\\\\anaconda3\\\\lib\\\\site-packages\\\\setuptools-20.3-py3.5.egg', 'C:\\\\Users\\\\cvrs\\\\Anaconda3\\\\lib\\\\site-packages', 'C:\\\\Users\\\\cvrs\\\\Anaconda3\\\\lib\\\\site-packages\\\\Sphinx-1.3.5-py3.5.egg', 'C:\\\\Users\\\\cvrs\\\\Anaconda3\\\\lib\\\\site-packages\\\\win32', 'C:\\\\Users\\\\cvrs\\\\Anaconda3\\\\lib\\\\site-packages\\\\win32\\\\lib', 'C:\\\\Users\\\\cvrs\\\\Anaconda3\\\\lib\\\\site-packages\\\\Pythonwin', 'C:\\\\Users\\\\cvrs\\\\Anaconda3\\\\lib\\\\site-packages\\\\IPython\\\\extensions', 'C:\\\\Users\\\\cvrs\\\\.ipython']\n",
      "after: ['shit', 'path/to/caffe', 'path/to/caffe', 'path/to/caffe', '', 'C:\\\\Users\\\\cvrs\\\\Anaconda3\\\\python35.zip', 'C:\\\\Users\\\\cvrs\\\\Anaconda3\\\\DLLs', 'C:\\\\Users\\\\cvrs\\\\Anaconda3\\\\lib', 'C:\\\\Users\\\\cvrs\\\\Anaconda3', 'c:\\\\users\\\\cvrs\\\\anaconda3\\\\lib\\\\site-packages\\\\setuptools-20.3-py3.5.egg', 'C:\\\\Users\\\\cvrs\\\\Anaconda3\\\\lib\\\\site-packages', 'C:\\\\Users\\\\cvrs\\\\Anaconda3\\\\lib\\\\site-packages\\\\Sphinx-1.3.5-py3.5.egg', 'C:\\\\Users\\\\cvrs\\\\Anaconda3\\\\lib\\\\site-packages\\\\win32', 'C:\\\\Users\\\\cvrs\\\\Anaconda3\\\\lib\\\\site-packages\\\\win32\\\\lib', 'C:\\\\Users\\\\cvrs\\\\Anaconda3\\\\lib\\\\site-packages\\\\Pythonwin', 'C:\\\\Users\\\\cvrs\\\\Anaconda3\\\\lib\\\\site-packages\\\\IPython\\\\extensions', 'C:\\\\Users\\\\cvrs\\\\.ipython']\n"
     ]
    }
   ],
   "source": [
    "import numpy as np\n",
    "import matplotlib.pyplot as plt\n",
    "%matplotlib inline\n",
    "\n",
    "import sys\n",
    "sys.path.insert??\n",
    "\n",
    "plt.rcParams['figure.figsize'] = (10, 10)\n",
    "plt.rcParams['image.interpolation'] = 'nearest'\n",
    "plt.rcParams['image.cmap'] = 'gray'"
   ]
  },
  {
   "cell_type": "code",
   "execution_count": 12,
   "metadata": {
    "collapsed": false
   },
   "outputs": [
    {
     "name": "stdout",
     "output_type": "stream",
     "text": [
      "[333, 1, 3, 5]\n"
     ]
    }
   ],
   "source": [
    "x = [1,3,5]\n",
    "x.insert(0, 333)\n",
    "print(x)"
   ]
  }
 ],
 "metadata": {
  "kernelspec": {
   "display_name": "Python 3",
   "language": "python",
   "name": "python3"
  },
  "language_info": {
   "codemirror_mode": {
    "name": "ipython",
    "version": 3
   },
   "file_extension": ".py",
   "mimetype": "text/x-python",
   "name": "python",
   "nbconvert_exporter": "python",
   "pygments_lexer": "ipython3",
   "version": "3.5.1"
  }
 },
 "nbformat": 4,
 "nbformat_minor": 0
}
